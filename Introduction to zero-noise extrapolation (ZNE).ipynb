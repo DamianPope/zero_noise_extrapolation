{
 "cells": [
  {
   "cell_type": "markdown",
   "id": "905e606f",
   "metadata": {},
   "source": [
    "<b>Introduction</b> <br>\n",
    "One day, we’ll have big fault tolerant computers. They’ll work flawlessly, automatically correcting any errors that occur. But, unfortunately, this isn’t the situation at the moment. \n",
    "\n",
    "Today’s quantum computers are relatively small and, more importantly, noisy. This means that we need to think carefully about their noise and how to work around it. One technique for doing this is <i>zero-noise extrapolation</i> or <i>ZNE</i>.\n",
    "\n",
    "<b>What is ZNE?</b> <br>\n",
    "ZNE was first introduced in 2017 <a href=\"https://arxiv.org/abs/1612.02058\">[1]</a> <a href=\"https://journals.aps.org/prx/abstract/10.1103/PhysRevX.7.021050\">[2]</a>. It’s based on the idea of systematically <i>adding extra noise</i> to a circuit. After doing this, we measure the expectation value of some observable and, finally, extrapolate back to the ideal case with zero noise. \n",
    "\n",
    "At first glance, ZNE seems like a strange idea. It involves emulating a noiseless quantum computer by adding more noise. However, the key idea is that we add noise in a systematic way. This allows us to learn the system's noise behaviour. Next, we use this knowledge to extrapolate to the behaviour of an ideal, noiseless quantum computer.\n",
    "\n",
    "<b>Why should you care about ZNE?</b> <br>\n",
    "ZNE is incredibly important as it allows us to efficiently determine the expectation values that a perfect, error-free quantum computer would have measured. But, using one of today’s imperfect error-prone quantum computers. \n",
    "\n",
    "This is important it opens the door to doing something useful on today's quantum computers. More specifically, to demonstrating something called <a href=\"https://research.ibm.com/blog/what-is-quantum-utlity\">quantum utility.</a>\n",
    "\n",
    "Quantum utility is the ability of a quantum computer to perform calculation that no brute-force classical calculation can reproduce (in a reasonable amount of time). Note that this does <i>not</i> mean that it’s impossible to come up with a specifically tailored, sophisticated classical algorithm that can reproduce the result. But, instead, that it’s impossible for a general-purpose algorithm to do it.\n",
    "\n",
    "Quantum utility is a key milestone in the experimental realization of quantum computers and quantum advantage.\n",
    "\n",
    "<b>How can I implement ZNE?</b> <br>\n",
    "<h2 style=\"font-size: value;\">\n",
    "The details of ZNE are complicated. So, you might think that you need to be an expert on quantum computers—and quantum physics—to implement it in your quantum programs. But, nothing could be further from the truth.<br> \n",
    "<h2 style=\"font-size: value;\">\n",
    "Using some of Qiskit’s new features, you can implement it in just a single line of code.\n",
    "<h2 style=\"font-size: value;\">\n",
    "Here it is:<br><br>\n",
    "<i>options.resilience_level = 2</i>\n",
    "<h2 style=\"font-size: value;\">\n",
    "That’s all there is to it.\n",
    "</h2>\n",
    "<a href=\"https://docs.quantum.ibm.com/run/configure-error-mitigation\">Source: Qiskit documentation on error mitigation</a>"
   ]
  },
  {
   "cell_type": "markdown",
   "id": "e0a7c2f0",
   "metadata": {},
   "source": [
    "To provide more context, here’s a fully fleshed out code example. It’s based on a simple quantum circuit that consists of ten X gates in a row:\n",
    "<img src=\"ten_x_gates_circuit.png\" alt=\"Drawing\" style=\"width: 900px;\"/>\n",
    "\n",
    "First, let's simulate running the circuit on an ideal, noiseless quantum computer. After implementing the circuit, we'll measure the expectation value of Z."
   ]
  },
  {
   "cell_type": "code",
   "execution_count": 1,
   "id": "516d089b",
   "metadata": {},
   "outputs": [
    {
     "name": "stdout",
     "output_type": "stream",
     "text": [
      " > IDEAL NOISELESS CIRCUIT: expectation value of Z = 1.00000\n"
     ]
    }
   ],
   "source": [
    "from qiskit_ibm_runtime import QiskitRuntimeService, Estimator, Options, Session\n",
    "from qiskit import QuantumCircuit\n",
    "from qiskit_aer.noise import NoiseModel\n",
    "from qiskit.quantum_info import SparsePauliOp\n",
    "from qiskit_aer.noise import depolarizing_error\n",
    "\n",
    "#create a model for the noise in the system\n",
    "noise_model = NoiseModel()\n",
    "\n",
    "#probability of an error occurring\n",
    "#Initially, we'll consider an ideal noiseless system.\n",
    "p_error = 0.0\n",
    "error = depolarizing_error(p_error, 1)\n",
    "noise_model.add_quantum_error(error, ['x'], [0])\n",
    "\n",
    "backend = \"ibmq_qasm_simulator\"\n",
    "\n",
    "#If you haven't already saved your IBM account, you need to include the line below.\n",
    "#Note: Change \"MY_IBM_QUANTUM_TOKEN\" to your API token\n",
    "#You can find this token by logging in here: https://quantum.ibm.com/\n",
    "#QiskitRuntimeService.save_account(channel=\"ibm_quantum\", token=\"MY_IBM_QUANTUM_TOKEN\")\n",
    "\n",
    "service = QiskitRuntimeService()\n",
    "options = Options()\n",
    "\n",
    "options.simulator = {\n",
    "    \"noise_model\": noise_model,\n",
    "    \"seed_simulator\": 52\n",
    "}\n",
    "\n",
    "options.resilience_level = 0\n",
    "options.optimization_level = 0\n",
    "\n",
    "#Define a quantum circuit that implements ten X gates in a row.\n",
    "qc = QuantumCircuit(1,1)\n",
    "for i in range(10):\n",
    "    qc.x(0)\n",
    "    qc.barrier(0)\n",
    "\n",
    "#define the Z operator that we want to measure the expectation value of at the end\n",
    "Z = SparsePauliOp.from_list([(\"Z\", 1)])\n",
    "\n",
    "with Session(service=service, backend=backend):\n",
    "    #calculate the expectation value of Z in the ideal noiseless circuit\n",
    "    estimator = Estimator(options=options)\n",
    "    job = estimator.run(\n",
    "        circuits=qc,\n",
    "        observables=[Z]\n",
    "    )\n",
    "    \n",
    "    result = job.result()\n",
    "    exp_value_ideal = result.values[0]\n",
    " \n",
    "    print(f\" > IDEAL NOISELESS CIRCUIT: expectation value of Z = {exp_value_ideal:.5f}\")   "
   ]
  },
  {
   "cell_type": "markdown",
   "id": "bed53fc2",
   "metadata": {},
   "source": [
    "The result makes sense as ten X gates in a row is equivalent to the identity operation. Now, let's add some noise to the system and calculate the expectation value of Z again."
   ]
  },
  {
   "cell_type": "code",
   "execution_count": 2,
   "id": "55a95b4e",
   "metadata": {},
   "outputs": [
    {
     "name": "stdout",
     "output_type": "stream",
     "text": [
      " > IDEAL NOISELESS CIRCUIT: expectation value of Z = 1.00000\n",
      " > NOISY CIRCUIT WITHOUT ZNE: expectation value of Z = 0.90150\n"
     ]
    }
   ],
   "source": [
    "#probability of an error occurring\n",
    "p_error = 0.01\n",
    "error = depolarizing_error(p_error, 1)\n",
    "noise_model.add_quantum_error(error, ['x'], [0])\n",
    "\n",
    "options.simulator = {\n",
    "    \"noise_model\": noise_model,\n",
    "    \"seed_simulator\": 52\n",
    "}\n",
    "\n",
    "#This corresponds to *not* using ZNE.\n",
    "options.resilience_level = 0\n",
    "options.optimization_level = 0\n",
    "\n",
    "with Session(service=service, backend=backend):\n",
    "    #calculate the expectation value of Z in a noisy circuit without using ZNE\n",
    "    estimator = Estimator(options=options)\n",
    "    job = estimator.run(\n",
    "        circuits=qc,\n",
    "        observables=[Z]\n",
    "    )\n",
    "    \n",
    "    result = job.result()\n",
    "    exp_value = result.values[0]\n",
    " \n",
    "    print(f\" > IDEAL NOISELESS CIRCUIT: expectation value of Z = {exp_value_ideal:.5f}\")\n",
    "    print(f\" > NOISY CIRCUIT WITHOUT ZNE: expectation value of Z = {exp_value:.5f}\")   "
   ]
  },
  {
   "cell_type": "markdown",
   "id": "1910ef27",
   "metadata": {},
   "source": [
    "Notice how the expectation value decreased due to the presence of the noise. Let's see if we can use ZNE to get a better estimate of the expectation value."
   ]
  },
  {
   "cell_type": "code",
   "execution_count": 3,
   "id": "4eb187fa",
   "metadata": {},
   "outputs": [
    {
     "name": "stdout",
     "output_type": "stream",
     "text": [
      " > IDEAL NOISELESS CIRCUIT: expectation value of Z = 1.00000\n",
      " > NOISY CIRCUIT WITHOUT ZNE: expectation value of Z = 0.90150\n",
      " > NOISY CIRCUIT WITH ZNE: expectation value of Z = 0.97496\n"
     ]
    }
   ],
   "source": [
    "#The two lines below implement ZNE. That's all there is to it.\n",
    "#Note that there are different types of ZNE.\n",
    "#'LocalFoldingAmplifier' specifies one type. For more details on this, see https://docs.quantum.ibm.com/run/configure-error-mitigation\n",
    "options.resilience_level = 2\n",
    "options.resilience.noise_amplifier = 'LocalFoldingAmplifier'\n",
    "\n",
    "with Session(service=service, backend=backend):\n",
    "    #calculate the expectation value of Z in a noisy circuit using ZNE\n",
    "    estimator = Estimator(options=options)\n",
    "    job = estimator.run(\n",
    "        circuits=qc,\n",
    "        observables=[Z]\n",
    "    )\n",
    "    result = job.result()\n",
    "    exp_value_with_zne = result.values[0]\n",
    " \n",
    "    print(f\" > IDEAL NOISELESS CIRCUIT: expectation value of Z = {exp_value_ideal:.5f}\")\n",
    "    print(f\" > NOISY CIRCUIT WITHOUT ZNE: expectation value of Z = {exp_value:.5f}\") \n",
    "    print(f\" > NOISY CIRCUIT WITH ZNE: expectation value of Z = {exp_value_with_zne:.5f}\")"
   ]
  },
  {
   "cell_type": "markdown",
   "id": "d47590b8",
   "metadata": {},
   "source": [
    "Notice how the noisy expectation value of Z with ZNE is closer to the ideal case. This illustrates the usefulness of ZNE."
   ]
  },
  {
   "cell_type": "markdown",
   "id": "ab02ec9b",
   "metadata": {},
   "source": [
    "<b>When is ZNE good to use?</b> <br>\n",
    "Whenever you want to calculate the expectation value of an observable on a noisy quantum computer and would like to get a good estimate of what its value woudld be on an ideal noiseless quantum computer."
   ]
  },
  {
   "cell_type": "markdown",
   "id": "0e53b423",
   "metadata": {},
   "source": [
    "<b>More details on ZNE (optional)</b> <br>\n",
    "\n",
    "Consider an ideal quantum circuit that implements the unitary operation $U$. Imagine that we want to implement the circuit and then measure the expectation value $\\langle O \\rangle$ of some observable $O$. \n",
    "\n",
    "<img src=\"basic_circuit_just_U.png\" alt=\"Drawing\" style=\"width: 400px;\"/>\n",
    "\n",
    "If we try doing this on a real quantum computer, we'll only implement a noisy version of the circuit. So, our measured value for $\\langle O \\rangle$ will differ from the ideal value."
   ]
  },
  {
   "cell_type": "markdown",
   "id": "1f5a9782",
   "metadata": {},
   "source": [
    "We can use ZNE to estimate the ideal noiseless value of $\\langle O \\rangle$ as follows: </br> </br>\n",
    "<b>STEP 1</b> <br>\n",
    "Implement the operation $U U^{\\dagger} U$ on the circuit.<br> \n",
    "Measure $\\langle O \\rangle$.<br>\n",
    "(Note that, without any noise, $U^{\\dagger} U = \\mathbb{I}$ and so $U U^{\\dagger} U = U$.)<br>\n",
    "Physically, $U U^{\\dagger} U$ corresponds to increasing the amount of noise in the circuit by implementing $U$, then implementing its time reversal (as $U^{\\dagger} = U^{-1}$), and then implementing $U$ again.\n",
    "\n",
    "<img src=\"circuit_scale_factor_3.png\" alt=\"Drawing\" style=\"width: 400px;\"/>\n",
    "\n",
    "<b>STEP 2</b> <br>\n",
    "Increase the noise even more by implementing $U \\left( U^{\\dagger} U \\right)^{2}$.<br>\n",
    "Measure $\\langle O \\rangle$.\n",
    "\n",
    "<img src=\"circuit_scale_factor_5.png\" alt=\"Drawing\" style=\"width: 400px;\"/>\n",
    "\n",
    "<b>STEP 3</b> <br>\n",
    "Increase the noise a few more times by implementing $U \\left( U^{\\dagger} U \\right)^{n}$, where $n=3,4,5...$.<br>\n",
    "Each time, we measure $\\langle O \\rangle$ at the end.\n",
    "\n",
    "<b>STEP 4</b> <br>\n",
    "Use all the measured expectation values to extrapolate and calculate what $\\langle O \\rangle$ would be in an ideal, noiseless system: $\\langle O \\rangle_{\\rm ideal}$.\n",
    "\n",
    "<img src=\"extrapolation.png\" alt=\"Drawing\" style=\"width: 400px;\"/>\n",
    "\n",
    "In practice, we can add noise in a more fine-grained way by only implementing some of the gates in the quantum circuit. Let $U$ be made up of $d$ quantum gates: \n",
    "$U = L_{1} L_{2} ... L_{d}$,\n",
    "where $L_{i}$ is the $i^{\\rm th}$ gate.\n",
    "\n",
    "We can add noise in a more controlled way by implementing the following sequence:<br>\n",
    "$U \\left( U^{\\dagger} U \\right)^{n} L_{1} L_{2} ... L_{s} L_{s}^{\\dagger} ... L_{2}^{\\dagger} L_{1}^{\\dagger}$,\n",
    "where $1 \\leq s \\leq d$.\n",
    "\n",
    "Physically, this corresponds to just implementing some of the gates and then implementing their time reversals.\n",
    "\n",
    "<img src=\"circuit_partial_fold.png\" alt=\"Drawing\" style=\"width: 400px;\"/>\n",
    "\n",
    "In ZNE, we characterize the amount of noise that we add by the parameter $\\lambda = 1+ 2\\left( n + s/d \\right)$ which is called the <i>scale factor</i>.\n",
    "\n",
    "Note: This section describes ZNE with global folding, one of the many types of ZNE.<br><br> \n",
    "To learn more about ZNE, <a href=\"https://arxiv.org/abs/2005.10921v1\">this paper</a> provides an excellent overview. "
   ]
  },
  {
   "cell_type": "code",
   "execution_count": null,
   "id": "ac7beccd",
   "metadata": {},
   "outputs": [],
   "source": []
  }
 ],
 "metadata": {
  "kernelspec": {
   "display_name": "Python 3 (ipykernel)",
   "language": "python",
   "name": "python3"
  },
  "language_info": {
   "codemirror_mode": {
    "name": "ipython",
    "version": 3
   },
   "file_extension": ".py",
   "mimetype": "text/x-python",
   "name": "python",
   "nbconvert_exporter": "python",
   "pygments_lexer": "ipython3",
   "version": "3.9.12"
  }
 },
 "nbformat": 4,
 "nbformat_minor": 5
}
